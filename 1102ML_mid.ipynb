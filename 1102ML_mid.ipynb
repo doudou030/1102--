{
 "cells": [
  {
   "cell_type": "code",
   "execution_count": 1,
   "metadata": {
    "id": "Kt4936zcmh1Z"
   },
   "outputs": [],
   "source": [
    "#!pip install opencv-python numpy pandas tensorflow keras Pillow imutils"
   ]
  },
  {
   "cell_type": "markdown",
   "metadata": {},
   "source": [
    "# 導入資料庫"
   ]
  },
  {
   "cell_type": "code",
   "execution_count": 2,
   "metadata": {},
   "outputs": [],
   "source": [
    "import os\n",
    "import cv2\n",
    "import imutils\n",
    "import random\n",
    "import numpy as np\n",
    "import pandas as pd\n",
    "import matplotlib.pyplot as plt\n",
    "from PIL import Image\n",
    "\n",
    "import tensorflow\n",
    "import keras\n",
    "from keras.models import Sequential\n",
    "from keras.layers import Dense, Dropout, Flatten, Conv2D, AveragePooling2D\n",
    "from keras.optimizer_v2.rmsprop import RMSprop\n",
    "from keras.optimizer_experimental.sgd import SGD\n",
    "from keras.optimizer_v2.adam import Adam\n",
    "from keras.utils import np_utils\n"
   ]
  },
  {
   "cell_type": "markdown",
   "metadata": {},
   "source": [
    "# load_data的定義"
   ]
  },
  {
   "cell_type": "code",
   "execution_count": 3,
   "metadata": {
    "id": "Xz17KVrS5wNc"
   },
   "outputs": [],
   "source": [
    "def load_data():\n",
    "  train_data = np.empty((train_num,150,90,3),dtype=\"float32\")\n",
    "  train_label = np.empty((train_num,),dtype=\"uint8\")\n",
    "  train_dir = os.listdir(\"data__train\")\n",
    "  for i in range(train_num):\n",
    "    train_image = Image.open(\"data__train/\"+train_dir[i])\n",
    "    train_array = np.asarray(train_image,dtype=\"float32\")\n",
    "    train_data[i, :, :, :] = train_array\n",
    "    train_label[i] = float(ord(train_dir[i].split('_')[0]))\n",
    "    if(train_label[i]>=64):#\n",
    "      train_label[i] -= 55\n",
    "    else:\n",
    "      train_label[i] -= 48\n",
    "\n",
    "  test_data = np.empty((test_num,150,90,3),dtype=\"float32\")\n",
    "  test_label = np.empty((test_num,),dtype=\"uint8\")\n",
    "  test_dir = os.listdir(\"data__test\")\n",
    "  for i in range(test_num):\n",
    "    test_image = Image.open(\"data__test/\"+test_dir[i])\n",
    "    test_array = np.asarray(test_image,dtype=\"float32\")\n",
    "    test_data[i, :, :, :] = test_array\n",
    "    # test_label[i] = int(ord(test_dir[i].split('_')[0]))\n",
    "    test_label[i] = float(ord(test_dir[i].split('_')[0]))\n",
    "    if(test_label[i]>=64):\n",
    "      test_label[i] -= 55\n",
    "    else:\n",
    "      test_label[i] -= 48\n",
    "  \n",
    "  return (train_data,train_label), (test_data,test_label)"
   ]
  },
  {
   "cell_type": "markdown",
   "metadata": {
    "id": "zyU0zrcO6p9B"
   },
   "source": [
    "# 參數設定"
   ]
  },
  {
   "cell_type": "code",
   "execution_count": 4,
   "metadata": {
    "colab": {
     "base_uri": "https://localhost:8080/"
    },
    "id": "KsD694xP7sAI",
    "outputId": "c70e8a2a-3b21-4084-a2c3-f4dfcc1ba950"
   },
   "outputs": [],
   "source": [
    "batch_size = 128\n",
    "num_classes = 26+10\n",
    "epochs = 20       \n",
    "\n",
    "train_num = 1637\n",
    "test_num = 428\n",
    "image_size = 150*90*3"
   ]
  },
  {
   "cell_type": "markdown",
   "metadata": {},
   "source": [
    "# 資料前處理"
   ]
  },
  {
   "cell_type": "code",
   "execution_count": 5,
   "metadata": {},
   "outputs": [
    {
     "name": "stdout",
     "output_type": "stream",
     "text": [
      "1637 train samples\n",
      "428 test samples\n"
     ]
    }
   ],
   "source": [
    "# the data, split between train and test sets\n",
    "(x_train, y_train), (x_test, y_test) = load_data()\n",
    "\n",
    "x_train = x_train.astype('float32')\n",
    "x_test = x_test.astype('float32')\n",
    "x_train /= 255\n",
    "x_test /= 255\n",
    "print(x_train.shape[0], 'train samples')\n",
    "print(x_test.shape[0], 'test samples')\n",
    "\n",
    "# convert class vectors to binary class matrices\n",
    "y_train = np_utils.to_categorical(y_train, num_classes)\n",
    "y_test = np_utils.to_categorical(y_test, num_classes)"
   ]
  },
  {
   "cell_type": "markdown",
   "metadata": {},
   "source": [
    "# model製造"
   ]
  },
  {
   "cell_type": "code",
   "execution_count": 6,
   "metadata": {},
   "outputs": [
    {
     "name": "stdout",
     "output_type": "stream",
     "text": [
      "Model: \"sequential\"\n",
      "_________________________________________________________________\n",
      " Layer (type)                Output Shape              Param #   \n",
      "=================================================================\n",
      " conv2d (Conv2D)             (None, 150, 90, 6)        456       \n",
      "                                                                 \n",
      " average_pooling2d (AverageP  (None, 75, 45, 6)        0         \n",
      " ooling2D)                                                       \n",
      "                                                                 \n",
      " conv2d_1 (Conv2D)           (None, 75, 45, 16)        2416      \n",
      "                                                                 \n",
      " average_pooling2d_1 (Averag  (None, 38, 23, 16)       0         \n",
      " ePooling2D)                                                     \n",
      "                                                                 \n",
      " flatten (Flatten)           (None, 13984)             0         \n",
      "                                                                 \n",
      " dense (Dense)               (None, 120)               1678200   \n",
      "                                                                 \n",
      " dense_1 (Dense)             (None, 84)                10164     \n",
      "                                                                 \n",
      " dense_2 (Dense)             (None, 36)                3060      \n",
      "                                                                 \n",
      "=================================================================\n",
      "Total params: 1,694,296\n",
      "Trainable params: 1,694,296\n",
      "Non-trainable params: 0\n",
      "_________________________________________________________________\n",
      "Epoch 1/20\n",
      "13/13 [==============================] - 8s 563ms/step - loss: 3.1315 - acc: 0.1863 - val_loss: 2.8413 - val_acc: 0.3294\n",
      "Epoch 2/20\n",
      "13/13 [==============================] - 8s 595ms/step - loss: 2.4276 - acc: 0.4380 - val_loss: 2.1904 - val_acc: 0.4369\n",
      "Epoch 3/20\n",
      "13/13 [==============================] - 6s 461ms/step - loss: 1.7231 - acc: 0.5925 - val_loss: 1.7214 - val_acc: 0.5748\n",
      "Epoch 4/20\n",
      "13/13 [==============================] - 6s 461ms/step - loss: 1.2969 - acc: 0.7056 - val_loss: 1.5273 - val_acc: 0.6355\n",
      "Epoch 5/20\n",
      "13/13 [==============================] - 6s 475ms/step - loss: 0.9636 - acc: 0.7862 - val_loss: 1.2774 - val_acc: 0.6916\n",
      "Epoch 6/20\n",
      "13/13 [==============================] - 6s 493ms/step - loss: 0.7286 - acc: 0.8308 - val_loss: 1.1740 - val_acc: 0.7056\n",
      "Epoch 7/20\n",
      "13/13 [==============================] - 6s 492ms/step - loss: 0.5612 - acc: 0.8821 - val_loss: 1.0830 - val_acc: 0.7336\n",
      "Epoch 8/20\n",
      "13/13 [==============================] - 7s 510ms/step - loss: 0.4356 - acc: 0.9200 - val_loss: 0.9775 - val_acc: 0.7617\n",
      "Epoch 9/20\n",
      "13/13 [==============================] - 6s 489ms/step - loss: 0.3166 - acc: 0.9493 - val_loss: 0.9274 - val_acc: 0.7710\n",
      "Epoch 10/20\n",
      "13/13 [==============================] - 6s 499ms/step - loss: 0.2368 - acc: 0.9713 - val_loss: 0.9001 - val_acc: 0.7944\n",
      "Epoch 11/20\n",
      "13/13 [==============================] - 6s 494ms/step - loss: 0.1786 - acc: 0.9859 - val_loss: 0.8635 - val_acc: 0.7944\n",
      "Epoch 12/20\n",
      "13/13 [==============================] - 6s 486ms/step - loss: 0.1395 - acc: 0.9921 - val_loss: 0.8422 - val_acc: 0.8037\n",
      "Epoch 13/20\n",
      "13/13 [==============================] - 6s 461ms/step - loss: 0.1050 - acc: 0.9951 - val_loss: 0.8269 - val_acc: 0.7897\n",
      "Epoch 14/20\n",
      "13/13 [==============================] - 6s 487ms/step - loss: 0.0829 - acc: 0.9963 - val_loss: 0.8025 - val_acc: 0.8061\n",
      "Epoch 15/20\n",
      "13/13 [==============================] - 6s 496ms/step - loss: 0.0667 - acc: 0.9963 - val_loss: 0.8010 - val_acc: 0.8014\n",
      "Epoch 16/20\n",
      "13/13 [==============================] - 7s 503ms/step - loss: 0.0538 - acc: 0.9982 - val_loss: 0.7992 - val_acc: 0.8061\n",
      "Epoch 17/20\n",
      "13/13 [==============================] - 6s 491ms/step - loss: 0.0441 - acc: 1.0000 - val_loss: 0.7898 - val_acc: 0.8084\n",
      "Epoch 18/20\n",
      "13/13 [==============================] - 7s 501ms/step - loss: 0.0377 - acc: 1.0000 - val_loss: 0.7829 - val_acc: 0.8014\n",
      "Epoch 19/20\n",
      "13/13 [==============================] - 7s 506ms/step - loss: 0.0324 - acc: 1.0000 - val_loss: 0.7844 - val_acc: 0.8061\n",
      "Epoch 20/20\n",
      "13/13 [==============================] - 6s 502ms/step - loss: 0.0292 - acc: 1.0000 - val_loss: 0.7771 - val_acc: 0.8084\n",
      "Test loss: 0.7771009206771851\n",
      "Test accuracy: 0.8084112405776978\n"
     ]
    }
   ],
   "source": [
    "model = Sequential()\n",
    "#Layer1  卷積層\n",
    "model.add(Conv2D(6, kernel_size=(5,5), strides=(1,1), activation='relu', input_shape= x_train[0].shape, padding=\"same\"))\n",
    "#Layer2  池化層\n",
    "model.add(AveragePooling2D(pool_size=(2, 2), strides=(2, 2), padding='same'))\n",
    "#Layer3  卷積層\n",
    "model.add(Conv2D(16, kernel_size=(5, 5), strides=(1, 1), activation='relu', padding='same'))\n",
    "#Layer4  池化層\n",
    "model.add(AveragePooling2D(pool_size=(2, 2), strides=(2, 2), padding='same'))\n",
    "#Layer5  \n",
    "model.add(Flatten())\n",
    "model.add(Dense(120, activation='tanh'))\n",
    "#Layer6\n",
    "model.add(Dense(84, activation='tanh'))\n",
    "#Layer7  輸出層\n",
    "model.add(Dense(num_classes, activation='softmax'))\n",
    "\n",
    "model.summary()\n",
    "\n",
    "model.compile(loss='categorical_crossentropy',\n",
    "              optimizer=Adam(),\n",
    "              metrics=['acc'])\n",
    "\n",
    "train_history = model.fit(x_train, y_train,\n",
    "              batch_size=batch_size,\n",
    "              epochs=epochs,\n",
    "              verbose=1,\n",
    "              validation_data=(x_test, y_test))\n",
    "score = model.evaluate(x_test, y_test, verbose=0)\n",
    "print('Test loss:', score[0])\n",
    "print('Test accuracy:', score[1])"
   ]
  },
  {
   "cell_type": "markdown",
   "metadata": {},
   "source": [
    "# 畫出訓練中的accuracy和loss function"
   ]
  },
  {
   "cell_type": "code",
   "execution_count": 7,
   "metadata": {
    "colab": {
     "base_uri": "https://localhost:8080/",
     "height": 590
    },
    "id": "d4nA-c5eVmN1",
    "outputId": "931c4561-7266-4022-9a62-d500bcc2917d"
   },
   "outputs": [
    {
     "data": {
      "image/png": "[encoded data removed]",
      "text/plain": [
       "<Figure size 432x288 with 1 Axes>"
      ]
     },
     "metadata": {
      "needs_background": "light"
     },
     "output_type": "display_data"
    },
    {
     "data": {
      "image/png": "[encoded data removed]",
      "text/plain": [
       "<Figure size 432x288 with 1 Axes>"
      ]
     },
     "metadata": {
      "needs_background": "light"
     },
     "output_type": "display_data"
    },
    {
     "name": "stdout",
     "output_type": "stream",
     "text": [
      "success\n"
     ]
    }
   ],
   "source": [
    "def show_train_history_acc(train_acc,test_acc):\n",
    "  plt.plot(train_history.history[train_acc])\n",
    "  plt.plot(train_history.history[test_acc])\n",
    "  plt.title('Train History')\n",
    "  plt.ylabel('Accuracy')\n",
    "  plt.xlabel('Epoch')\n",
    "  plt.legend(['train', 'test'], loc='upper left')\n",
    "  plt.show()\n",
    "\n",
    "def show_train_history_loss(train_acc,test_acc):\n",
    "  plt.plot(train_history.history[train_acc])\n",
    "  plt.plot(train_history.history[test_acc])\n",
    "  plt.title('Train History')\n",
    "  plt.ylabel('Loss')\n",
    "  plt.xlabel('Epoch')\n",
    "  plt.legend(['train', 'test'], loc='upper left')\n",
    "  plt.show()\n",
    "\n",
    "show_train_history_acc('acc','val_acc')\n",
    "\n",
    "show_train_history_loss('loss','val_loss')\n",
    "\n",
    "# Save model\n",
    "try:\n",
    "  model.save_weights(\"car_lenet_numberandletter.h5\")\n",
    "  print(\"success\")\n",
    "except:\n",
    "  print(\"error\")"
   ]
  },
  {
   "cell_type": "code",
   "execution_count": null,
   "metadata": {
    "id": "tDdmY8ZR-sT_"
   },
   "outputs": [],
   "source": []
  }
 ],
 "metadata": {
  "accelerator": "GPU",
  "colab": {
   "collapsed_sections": [],
   "name": "dou_test.ipynb",
   "provenance": []
  },
  "kernelspec": {
   "display_name": "Python 3 (ipykernel)",
   "language": "python",
   "name": "python3"
  },
  "language_info": {
   "codemirror_mode": {
    "name": "ipython",
    "version": 3
   },
   "file_extension": ".py",
   "mimetype": "text/x-python",
   "name": "python",
   "nbconvert_exporter": "python",
   "pygments_lexer": "ipython3",
   "version": "3.9.12"
  }
 },
 "nbformat": 4,
 "nbformat_minor": 1
}
